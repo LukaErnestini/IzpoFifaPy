{
 "cells": [
  {
   "cell_type": "code",
   "execution_count": 18,
   "metadata": {},
   "outputs": [],
   "source": [
    "from sqlalchemy import MetaData, Table, create_engine, select\n",
    "from dotenv import load_dotenv\n",
    "import pandas as pd\n",
    "import os\n",
    "\n",
    "load_dotenv()\n",
    "\n",
    "DATABASE_URL = os.getenv(\"DATABASE_URL\")\n",
    "\n",
    "# https://docs.sqlalchemy.org/en/20/core/reflection.html\n",
    "engine = create_engine(DATABASE_URL)\n",
    "metadata_obj = MetaData()\n",
    "metadata_obj.reflect(bind=engine)\n",
    "\n",
    "# Load the tables\n",
    "Attempt = Table(\"Attempt\", metadata_obj, autoload_with=engine)\n",
    "Foul = Table(\"Foul\", metadata_obj, autoload_with=engine)\n",
    "Game = Table(\"Game\", metadata_obj, autoload_with=engine)\n",
    "Gameday = Table(\"Gameday\", metadata_obj, autoload_with=engine)\n",
    "Player = Table(\"Player\", metadata_obj, autoload_with=engine)\n",
    "PlayersInGameday = Table(\"PlayersInGameday\", metadata_obj, autoload_with=engine)\n",
    "PlayersInTeam = Table(\"PlayersInTeam\", metadata_obj, autoload_with=engine)\n",
    "Team = Table(\"Team\", metadata_obj, autoload_with=engine)\n",
    "\n",
    "def execute_query_to_df(sql):\n",
    "    # Execute the query and retrieve the results into a DataFrame\n",
    "    with engine.connect() as conn:\n",
    "        result = conn.execute(sql)\n",
    "        df = pd.DataFrame(result.fetchall(), columns=result.keys())\n",
    "\n",
    "    return df\n",
    "\n",
    "\n",
    "# def get_df_from_table(table: Table):\n",
    "#     stmt = select(table)\n",
    "#     with engine.connect() as conn:\n",
    "#         result = conn.execute(stmt)\n",
    "#         return pd.DataFrame(result.fetchall(), columns=result.keys())\n",
    "\n",
    "# attempts_df = get_df_from_table(Attempt)\n",
    "# fouls_df = get_df_from_table(Foul)\n",
    "# games_df = get_df_from_table(Game)\n",
    "# gamedays_df = get_df_from_table(Gameday)\n",
    "# players_df = get_df_from_table(Player)\n",
    "# players_in_gameday_df = get_df_from_table(PlayersInGameday)\n",
    "# players_in_team_df = get_df_from_table(PlayersInTeam)\n",
    "# teams_df = get_df_from_table(Team)"
   ]
  },
  {
   "cell_type": "code",
   "execution_count": 19,
   "metadata": {},
   "outputs": [
    {
     "name": "stdout",
     "output_type": "stream",
     "text": [
      "[2, 6]\n"
     ]
    }
   ],
   "source": [
    "# Query parameters\n",
    "userId = \"e3c5b4e5-29c4-4b91-95c4-aa4619fe0137\"\n",
    "gamedayId = \"2\" # Optional\n",
    "\n",
    "stmt = select(Gameday).where(Gameday.c.userId == userId)\n",
    "gamedays_df = execute_query_to_df(stmt)\n",
    "\n",
    "gamedays_ids = [int(gamedayId)] if gamedayId else gamedays_df['id'].tolist()\n",
    "\n"
   ]
  }
 ],
 "metadata": {
  "kernelspec": {
   "display_name": "Python 3",
   "language": "python",
   "name": "python3"
  },
  "language_info": {
   "codemirror_mode": {
    "name": "ipython",
    "version": 3
   },
   "file_extension": ".py",
   "mimetype": "text/x-python",
   "name": "python",
   "nbconvert_exporter": "python",
   "pygments_lexer": "ipython3",
   "version": "3.11.1"
  },
  "orig_nbformat": 4,
  "vscode": {
   "interpreter": {
    "hash": "d4347253d30bea50a95efda23cb57e75da056f1e20d4b41d95a67855d5ac7fd3"
   }
  }
 },
 "nbformat": 4,
 "nbformat_minor": 2
}
